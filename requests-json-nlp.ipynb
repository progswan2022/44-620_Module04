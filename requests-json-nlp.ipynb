{
 "cells": [
  {
   "cell_type": "markdown",
   "metadata": {},
   "source": [
    "# Web Mining and Applied NLP (44-620)\n",
    "\n",
    "## Requests, JSON, and NLP\n",
    "\n",
    "### Student Name: Erin Swan-Siegel https://github.com/progswan2022/44-620_Module04 \n",
    "\n",
    "Perform the tasks described in the Markdown cells below.  When you have completed the assignment make sure your code cells have all been run (and have output beneath them) and ensure you have committed and pushed ALL of your changes to your assignment repository.\n",
    "\n",
    "Make sure you have [installed spaCy and its pipeline](https://spacy.io/usage#quickstart) and [spaCyTextBlob](https://spacy.io/universe/project/spacy-textblob)\n",
    "\n",
    "Every question that requires you to write code will have a code cell underneath it; you may either write your entire solution in that cell or write it in a python file (`.py`), then import and run the appropriate code to answer the question.\n",
    "\n",
    "This assignment requires that you write additional files (either JSON or pickle files); make sure to submit those files in your repository as well."
   ]
  },
  {
   "cell_type": "markdown",
   "metadata": {},
   "source": [
    "# Question 1\n",
    "The following code accesses the [poetrydb](https://poetrydb.org/) public api, searches for the lines of a poem, and stores it in a dictionary object.  Write the resulting json to a file (either a JSON file or a pickle file; you choose). You will read in the contents of this file for future questions so we do not need to frequently access the API."
   ]
  },
  {
   "cell_type": "code",
   "execution_count": 1,
   "metadata": {},
   "outputs": [],
   "source": [
    "import requests\n",
    "import json"
   ]
  },
  {
   "cell_type": "code",
   "execution_count": 63,
   "metadata": {},
   "outputs": [],
   "source": [
    "# User's Input options\n",
    "AUTHOR = 'Shakespear'\n",
    "TITLE = 'Spring and Winter ii'\n",
    "\n",
    "# Loading the contents of the selected author and title into memory\n",
    "URL = f'https://poetrydb.org/author,title/{AUTHOR};{TITLE}'\n",
    "result = json.loads(requests.get(URL).text)\n",
    "\n",
    "# Prepare the data to be written to a json file; Serializing json\n",
    "json_object = json.dumps(result, indent=4)\n",
    " \n",
    "# Opening a .json file, writing to Shakespear_Winter.json\n",
    "with open(\"Shakespear_Winter_ii.json\", \"w\") as outfile:\n",
    "    outfile.write(json_object)\n",
    "    \n",
    "outfile.close()"
   ]
  },
  {
   "cell_type": "markdown",
   "metadata": {},
   "source": [
    "# Question 2\n",
    "Read in the contents of your file.  Print the lines of the poem (not the entire dictionary!) and use spaCyTextBlob to perform sentiment analysis on the lines.  Print the polarity score of the sentiment analysis.  Given that the range of the polarity score is `[-1.0,1.0]` which corresponds to how positive or negative the text in question is, do you think the lyrics have a more positive or negative connotaion?  Answer this question in a comment in your code cell."
   ]
  },
  {
   "cell_type": "code",
   "execution_count": 67,
   "metadata": {},
   "outputs": [
    {
     "name": "stdout",
     "output_type": "stream",
     "text": [
      "['WHEN icicles hang by the wall,', '   And Dick the shepherd blows his nail,', 'And Tom bears logs into the hall,', '   And milk comes frozen home in pail,', \"When blood is nipp'd, and ways be foul,\", 'Then nightly sings the staring owl,', '   To-whit!', 'To-who!--a merry note,', 'While greasy Joan doth keel the pot.', '', 'When all aloud the wind doe blow,', \"   And coughing drowns the parson's saw,\", 'And birds sit brooding in the snow,', \"   And Marian's nose looks red and raw,\", 'When roasted crabs hiss in the bowl,', 'Then nightly sings the staring owl,', '   To-whit!', 'To-who!--a merry note,', 'While greasy Joan doth keel the pot.']\n"
     ]
    }
   ],
   "source": [
    "# Opening JSON file\n",
    "with open('Shakespear_Winter_ii.json', 'r') as openfile:\n",
    " \n",
    "    # Reading from json file\n",
    "    json_object = json.load(openfile)\n",
    " \n",
    "print(json_object[0][\"lines\"])\n",
    "openfile.close()"
   ]
  },
  {
   "cell_type": "code",
   "execution_count": 68,
   "metadata": {},
   "outputs": [
    {
     "name": "stdout",
     "output_type": "stream",
     "text": [
      "-0.14423076923076925\n"
     ]
    }
   ],
   "source": [
    "# Use spaCyTextBlob for Sentiment Analysis on the poem's lines\n",
    "# Print the Polarity Score\n",
    "import spacy\n",
    "from spacytextblob.spacytextblob import SpacyTextBlob\n",
    "\n",
    "nlp = spacy.load('en_core_web_sm')\n",
    "nlp.add_pipe('spacytextblob')\n",
    "text = ' '.join(json_object[0]['lines'])\n",
    "doc = nlp(text)\n",
    "print(doc._.polarity)         \n",
    "\n",
    "# Based on the polarity of -0.144, the poem has a slightly negative connotation"
   ]
  },
  {
   "cell_type": "markdown",
   "metadata": {},
   "source": [
    "# Question 3\n",
    "Write a function that takes an author, title, and filename, accesses the poetrydb api to get the poem lines, and writes the results to the specified filename.  Test this function by getting the lines to any four poems of your choice and storing them in different files."
   ]
  },
  {
   "cell_type": "code",
   "execution_count": 72,
   "metadata": {},
   "outputs": [],
   "source": [
    "# Function that takes author and title, and builds a filename from the two inputs\n",
    "def Sentiment_Analysis_Poems(author,title):\n",
    "    # Loading the contents of the selected author and title into memory\n",
    "    URL = f'https://poetrydb.org/author,title/{author};{title}'\n",
    "    result = json.loads(requests.get(URL).text)\n",
    "\n",
    "    # Prepare the data to be written to a json file; Serializing json\n",
    "    json_object = json.dumps(result, indent=4)\n",
    "    \n",
    "    # Prepare the filename\n",
    "    filename = author.replace(' ','_')+'_'+title.replace(' ','_')+'.json'\n",
    " \n",
    "    # Opening a .json file, writing to author_title.json\n",
    "    with open(filename, \"w\") as outfile:\n",
    "        outfile.write(json_object)\n",
    "    outfile.close()\n",
    "\n",
    "author1 = 'Shakespear'\n",
    "title1 = 'Under the Greenwood Tree'\n",
    "# filename will be created as a part of the function in order to create consistency\n",
    "\n",
    "author2 = 'Charlotte Bronte'\n",
    "title2 = 'Life'\n",
    "\n",
    "author3 = 'Edgar Allan Poe'\n",
    "title3 = 'The Raven'\n",
    "\n",
    "author4 = 'Edgar Allan Poe'\n",
    "title4 = 'Silence'\n",
    "\n",
    "Sentiment_Analysis_Poems(author1, title1)\n",
    "Sentiment_Analysis_Poems(author2, title2)\n",
    "Sentiment_Analysis_Poems(author3, title3)\n",
    "Sentiment_Analysis_Poems(author4, title4)"
   ]
  },
  {
   "cell_type": "markdown",
   "metadata": {},
   "source": [
    "# Question 4\n",
    "Write a function that takes the name of a file that contains poem, loads the file, performs sentiment analysis, and returns the polarity score.  Use this function to print the polarity scores (with the name of the poem) of the four files you created in question 3.  Does the reported polarity match your understanding of the poem? Why or why not do you think that might be?  Answer the questions in either a comment in the code cell or a markdown cell under the code cell."
   ]
  },
  {
   "cell_type": "code",
   "execution_count": 73,
   "metadata": {},
   "outputs": [
    {
     "name": "stdout",
     "output_type": "stream",
     "text": [
      "Polarity of the poem \"Life\" by author Charlotte Bronte: 0.3731060606060606\n",
      "Polarity of the poem \"Under The Greenwood Tree\" by author Shakespear: 0.0715909090909091\n",
      "Polarity of the poem \"Silence\" by author Edgar Allan Poe: -0.14386363636363636\n",
      "Polarity of the poem \"The Raven\" by author Edgar Allan Poe: 0.03847439660795825\n"
     ]
    }
   ],
   "source": [
    "def poem_polarity(filename,poem,author):\n",
    "    with open(filename+'.json', 'r') as openfile:\n",
    " \n",
    "        # Reading from json file\n",
    "        json_object = json.load(openfile)\n",
    "    nlp = spacy.load('en_core_web_sm')\n",
    "    nlp.add_pipe('spacytextblob')\n",
    "    text = ' '.join(json_object[0]['lines'])\n",
    "    doc = nlp(text)\n",
    "    print('Polarity of the poem \"'+poem+'\" by author '+author+': '+str(doc._.polarity))\n",
    "    openfile.close()\n",
    "\n",
    "poem_polarity('Charlotte_Bronte_Life','Life','Charlotte Bronte')\n",
    "poem_polarity('Shakespear_Under_the_Greenwood_Tree','Under The Greenwood Tree','Shakespear')\n",
    "poem_polarity('Edgar_Allan_Poe_Silence','Silence','Edgar Allan Poe')\n",
    "poem_polarity('Edgar_Allan_Poe_The_Raven','The Raven','Edgar Allan Poe')"
   ]
  },
  {
   "cell_type": "markdown",
   "metadata": {},
   "source": [
    "### Question 4b\n",
    "* For Charlotte Bronte's \"Life\", I agree with the polarity score. While the poem does speak of the laments of life, there is an over-arching positive tone; taking the good with the bad, but ultimately exclaiming that courage can overcome the despair. The Sentiment analysis agrees closely with me due to positive words such as 'victoriously' and 'gloriously'\n",
    "* For Shakespear's \"Under The Greenwood Tree\", I slightly disagree with the Sentiment analysis as I believe this poem to be more positive. I believe the issue lies partially in the Olde English prose; written in meters which causes certain words to be used when they normally wouldn't and the shortening of words through apostrophes, which I imagine is confusing if the NPL hasn't been trained on Shakespear\n",
    "* For Edgar Allan Poe's \"Silence\", I don't necessarily agree with the polarity score but I am also having a difficult time discerning the tone of the poem myself. My guess is that the more negative words than positive are what caused the score\n",
    "* For Edgar Allan Poe's \"The Raven\", I don't necessarily gree with the positive polarity score. The author is in mourning and Ravens are often regarded as symbols for death. I believe the sentiment is more mournful, which could be thought of as negative."
   ]
  },
  {
   "cell_type": "code",
   "execution_count": null,
   "metadata": {},
   "outputs": [],
   "source": []
  }
 ],
 "metadata": {
  "kernelspec": {
   "display_name": "Python 3 (ipykernel)",
   "language": "python",
   "name": "python3"
  },
  "language_info": {
   "codemirror_mode": {
    "name": "ipython",
    "version": 3
   },
   "file_extension": ".py",
   "mimetype": "text/x-python",
   "name": "python",
   "nbconvert_exporter": "python",
   "pygments_lexer": "ipython3",
   "version": "3.9.7"
  }
 },
 "nbformat": 4,
 "nbformat_minor": 4
}
